{
  "nbformat": 4,
  "nbformat_minor": 0,
  "metadata": {
    "colab": {
      "provenance": [],
      "collapsed_sections": [],
      "mount_file_id": "1Fe8zmLDehLOAFI6tPQSmIuZr9EpUyCK7",
      "authorship_tag": "ABX9TyOgIWOPq7J51wcYYRF9adaM",
      "include_colab_link": true
    },
    "kernelspec": {
      "name": "python3",
      "display_name": "Python 3"
    },
    "language_info": {
      "name": "python"
    }
  },
  "cells": [
    {
      "cell_type": "markdown",
      "metadata": {
        "id": "view-in-github",
        "colab_type": "text"
      },
      "source": [
        "<a href=\"https://colab.research.google.com/github/stefw/notebooks/blob/main/TikTokAPI.ipynb\" target=\"_parent\"><img src=\"https://colab.research.google.com/assets/colab-badge.svg\" alt=\"Open In Colab\"/></a>"
      ]
    },
    {
      "cell_type": "code",
      "execution_count": null,
      "metadata": {
        "id": "bIf7_mK5CycG"
      },
      "outputs": [],
      "source": [
        "import pandas as pd\n",
        "!pip install TikTokApi\n",
        "!python -m playwright install #deja dans les deps, à vérif, pb sur colab\n",
        "!playwright install-deps #deja dans les deps, , à vérif, pb sur colab"
      ]
    },
    {
      "cell_type": "code",
      "source": [
        "#des pbs de loops sur Colab ? TBC\n",
        "!pip install nest-asyncio\n",
        "import nest_asyncio\n",
        "nest_asyncio.apply()"
      ],
      "metadata": {
        "id": "5F1KaofnD2OM"
      },
      "execution_count": null,
      "outputs": []
    },
    {
      "cell_type": "code",
      "source": [
        "#https://github.com/supabase-community/supabase-py\n",
        "!pip install supabase\n",
        "from supabase import create_client, Client\n",
        "SUPABASE_URL=\"xxx\"\n",
        "SUPABASE_KEY=\"xxx\""
      ],
      "metadata": {
        "id": "YNYWRL6LZ7g2"
      },
      "execution_count": null,
      "outputs": []
    },
    {
      "cell_type": "code",
      "source": [
        "from TikTokApi import TikTokApi\n",
        "verify_fp = \"verify_xxx\"\n",
        "api = TikTokApi(custom_verify_fp=verify_fp)\n",
        "\n",
        "titokres = pd.DataFrame()\n",
        "\n",
        "hashtag=\"macron\"\n",
        "tag = api.hashtag(name=hashtag)\n",
        "#print(tag.info())\n",
        "\n",
        "for video in tag.videos(count=100):\n",
        "    video_data = api.video(id=video.id).info_full()\n",
        "    titokres=titokres.append({'id' : video_data['itemInfo']['itemStruct']['video']['id'], 'desc' : video_data['itemInfo']['itemStruct']['desc'] , 'commentCount' : video_data['itemInfo']['itemStruct']['stats']['commentCount'], 'diggCount' : video_data['itemInfo']['itemStruct']['stats']['diggCount'] , 'playCount' : video_data['itemInfo']['itemStruct']['stats']['playCount'] , 'shareCount' : video_data['itemInfo']['itemStruct']['stats']['shareCount'], 'downloadAddr' : video_data['itemInfo']['itemStruct']['video']['downloadAddr'] , 'nickname' : video_data['itemInfo']['itemStruct']['author']['nickname'] , 'userid' : video_data['itemInfo']['itemStruct']['author']['id'], 'uniqueId' : video_data['itemInfo']['itemStruct']['author']['uniqueId'] , 'u_diggCount' : video_data['itemInfo']['itemStruct']['authorStats']['diggCount'], 'u_followerCount' : video_data['itemInfo']['itemStruct']['authorStats']['followerCount'] , 'u_followingCount' : video_data['itemInfo']['itemStruct']['authorStats']['followingCount'] , 'u_heart' : video_data['itemInfo']['itemStruct']['authorStats']['heart'] , 'u_heartCount' : video_data['itemInfo']['itemStruct']['authorStats']['heartCount'] , 'u_videoCount' : video_data['itemInfo']['itemStruct']['authorStats']['videoCount'] } , ignore_index=True)\n",
        "    supabase: Client = create_client(SUPABASE_URL, SUPABASE_KEY)\n",
        "    data = supabase.table(\"TikTok\").insert({\"hashtag\":hashtag,\"videoID\":video_data['itemInfo']['itemStruct']['video']['id'], 'desc' : video_data['itemInfo']['itemStruct']['desc'] , 'commentCount' : video_data['itemInfo']['itemStruct']['stats']['commentCount'], 'diggCount' : video_data['itemInfo']['itemStruct']['stats']['diggCount'] , 'playCount' : video_data['itemInfo']['itemStruct']['stats']['playCount'] , 'shareCount' : video_data['itemInfo']['itemStruct']['stats']['shareCount'], 'downloadAddr' : video_data['itemInfo']['itemStruct']['video']['downloadAddr'] , 'nickname' : video_data['itemInfo']['itemStruct']['author']['nickname'] , 'userid' : video_data['itemInfo']['itemStruct']['author']['id'], 'uniqueId' : video_data['itemInfo']['itemStruct']['author']['uniqueId'] , 'u_diggCount' : video_data['itemInfo']['itemStruct']['authorStats']['diggCount'], 'u_followerCount' : video_data['itemInfo']['itemStruct']['authorStats']['followerCount'] , 'u_followingCount' : video_data['itemInfo']['itemStruct']['authorStats']['followingCount'] , 'u_heart' : video_data['itemInfo']['itemStruct']['authorStats']['heart'] , 'u_heartCount' : video_data['itemInfo']['itemStruct']['authorStats']['heartCount'] , 'u_videoCount' : video_data['itemInfo']['itemStruct']['authorStats']['videoCount']}).execute()\n",
        "\n",
        "titokres.to_csv('/content/drive/MyDrive/Colab Notebooks/titokres.csv') \n",
        "\n"
      ],
      "metadata": {
        "id": "ZUGS_xUYDCdb",
        "colab": {
          "base_uri": "https://localhost:8080/"
        },
        "outputId": "9317b471-6a8b-4536-8709-e64378e43888"
      },
      "execution_count": null,
      "outputs": [
        {
          "output_type": "stream",
          "name": "stdout",
          "text": [
            "{'coverLarger': '', 'coverMedium': '', 'coverThumb': '', 'desc': '', 'id': '12422027', 'isCommerce': False, 'profileLarger': '', 'profileMedium': '', 'profileThumb': '', 'stats': {'videoCount': 120600, 'viewCount': 3400000000}, 'title': 'macron'}\n"
          ]
        }
      ]
    },
    {
      "cell_type": "code",
      "source": [
        "\n"
      ],
      "metadata": {
        "id": "01L7iS0aCGhc"
      },
      "execution_count": null,
      "outputs": []
    }
  ]
}